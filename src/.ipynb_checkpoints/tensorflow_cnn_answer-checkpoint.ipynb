{
 "cells": [
  {
   "cell_type": "markdown",
   "metadata": {},
   "source": [
    "# Tensorflowを用いたCNNの実装"
   ]
  },
  {
   "cell_type": "markdown",
   "metadata": {},
   "source": [
    "このハンズオンでは，CNN (Convolutional Neural Network, 畳み込みニューラルネットワーク)をTensorflowを用いて実装し，手書き数字データセットMNISTの識別を行います．"
   ]
  },
  {
   "cell_type": "markdown",
   "metadata": {},
   "source": [
    "# 目次\n",
    "\n",
    "- [準備](#準備)\n",
    "- [CNNの解説](#CNNの解説)\n",
    "- [ハンズオン - CNNの実装](#ハンズオン - CNNの実装)"
   ]
  },
  {
   "cell_type": "markdown",
   "metadata": {},
   "source": [
    "<a name=\"準備\"></a>\n",
    "# 準備"
   ]
  },
  {
   "cell_type": "markdown",
   "metadata": {},
   "source": [
    "### Tensorflowのインストール"
   ]
  },
  {
   "cell_type": "code",
   "execution_count": null,
   "metadata": {
    "collapsed": true
   },
   "outputs": [],
   "source": [
    "!sudo pip install tensorflow-gpu==1.2"
   ]
  },
  {
   "cell_type": "markdown",
   "metadata": {},
   "source": [
    "### 必要なライブラリのロード"
   ]
  },
  {
   "cell_type": "code",
   "execution_count": 1,
   "metadata": {},
   "outputs": [
    {
     "name": "stderr",
     "output_type": "stream",
     "text": [
      "/Users/lisakawai/anaconda3/lib/python3.6/site-packages/sklearn/cross_validation.py:41: DeprecationWarning: This module was deprecated in version 0.18 in favor of the model_selection module into which all the refactored classes and functions are moved. Also note that the interface of the new CV iterators are different from that of this module. This module will be removed in 0.20.\n",
      "  \"This module will be removed in 0.20.\", DeprecationWarning)\n"
     ]
    }
   ],
   "source": [
    "#import tensorflow as tf\n",
    "\n",
    "from __future__ import print_function\n",
    "\n",
    "import numpy as np\n",
    "from sklearn.datasets import fetch_mldata\n",
    "from sklearn.cross_validation import train_test_split"
   ]
  },
  {
   "cell_type": "markdown",
   "metadata": {},
   "source": [
    "### データの準備\n",
    "\n",
    "前回までと同様，MNISTのデータを読み込み，訓練データ，テストデータに分割します．"
   ]
  },
  {
   "cell_type": "code",
   "execution_count": 2,
   "metadata": {
    "collapsed": true
   },
   "outputs": [],
   "source": [
    "# データのロード\n",
    "mnist = fetch_mldata('MNIST original', data_home='./data/')\n",
    "\n",
    "# data : 画像データ， target : 正解ラベル\n",
    "X, T = mnist.data, mnist.target\n",
    "\n",
    "# 画像データは0~255の数値のなっているので，0~1の値に変換\n",
    "X = X / 255.\n",
    "\n",
    "#　訓練データとテストデータに分ける\n",
    "X_train, X_test, T_train, T_test = train_test_split(X, T, test_size=0.2)\n",
    "\n",
    "# データのサイズ\n",
    "N_train = X_train.shape[0]\n",
    "N_test = X_test.shape[0]\n",
    "\n",
    "# ラベルデータをint型に統一し，学習に使いやすいようにone-hot-vectorに変換\n",
    "T_train = np.eye(10)[T_train.astype(\"int\")]\n",
    "T_test = np.eye(10)[T_test.astype(\"int\")]"
   ]
  },
  {
   "cell_type": "code",
   "execution_count": null,
   "metadata": {
    "collapsed": true
   },
   "outputs": [],
   "source": [
    "print ('訓練データのサイズは', N_train)\n",
    "print ('テストデータのサイズは', N_test)\n",
    "print ('画像データのshapeは', X_train.shape)\n",
    "print ('ラベルデータのshapeは', T_train.shape)\n",
    "print ('ラベルデータの数値の例：')\n",
    "print (T_train[:10])"
   ]
  },
  {
   "cell_type": "markdown",
   "metadata": {},
   "source": [
    "<a name=\"CNNの解説\"></a>\n",
    "# CNNの解説"
   ]
  },
  {
   "cell_type": "markdown",
   "metadata": {},
   "source": [
    "ここからは，CNNの実装を行います．\n",
    "\n",
    "実装の前に，CNNの主要な構成要素である**畳み込み層**と**プーリング層**について説明します．"
   ]
  },
  {
   "cell_type": "markdown",
   "metadata": {},
   "source": [
    "## 畳み込み層"
   ]
  },
  {
   "cell_type": "markdown",
   "metadata": {},
   "source": [
    "まず，最も基本的な畳み込み層について説明します．\n",
    "\n",
    "畳み込み層では，以下の図のようなフィルタを入力にスライドさせながら適用していきます．\n",
    "\n",
    "ここでは，入力画像サイズが(4, 4)，入力チャンネル数1，フィルタサイズ(3, 3)としています．"
   ]
  },
  {
   "cell_type": "markdown",
   "metadata": {},
   "source": [
    "<img src=\"figure/cnn_1.png\" width=500>\n",
    "<img src=\"figure/cnn_2.png\" width=500>"
   ]
  },
  {
   "cell_type": "markdown",
   "metadata": {},
   "source": [
    "### ストライド\n",
    "フィルタを適用する際，上の例では間隔をあけずに適用しましたが，ある間隔をあけながらフィルタを適用する場合があります．\n",
    "\n",
    "この間隔を**ストライド**と呼びます．\n",
    "上の例ではストライドは1ですが，下のように1つずつ間隔をあけてフィルタを適用した場合，ストライドは2となります．"
   ]
  },
  {
   "cell_type": "markdown",
   "metadata": {},
   "source": [
    "<img src=\"figure/stride.png\" width=500>"
   ]
  },
  {
   "cell_type": "markdown",
   "metadata": {},
   "source": [
    "### パディング\n",
    "今まで見てきたようにフィルタを適用していくと，出力サイズは徐々に小さくなっていきます．\n",
    "\n",
    "そこで，出力サイズを調整するために，**パディング**という操作を行うことがあります．\n",
    "\n",
    "パディングとは，入力の周囲をゼロなどのデータで埋める操作のことです．\n",
    "\n",
    "下の図では，パディング幅1のゼロパディングを行っています．"
   ]
  },
  {
   "cell_type": "markdown",
   "metadata": {},
   "source": [
    "<img src=\"figure/padding.png\" width=300>"
   ]
  },
  {
   "cell_type": "markdown",
   "metadata": {},
   "source": [
    "### 出力サイズの計算\n",
    "\n",
    "畳み込み層のフィルタを適用した後の出力サイズは，以下の式で計算できます．\n",
    "\n",
    "\n",
    "$$\n",
    "W_O = \\frac{W_I + 2P - W_F}{S} + 1\n",
    "$$\n",
    "\n",
    "$$\n",
    "H_O = \\frac{H_I + 2P - H_F}{S} + 1\n",
    "$$\n",
    "\n",
    "ここで，$(W_O, H_O)$は出力の幅と高さ，$(W_I, H_I)$は入力の幅と高さ，$P$はパディング幅，$S$はストライド幅を指しています．"
   ]
  },
  {
   "cell_type": "markdown",
   "metadata": {},
   "source": [
    "### フィルタ数\n",
    "\n",
    "複数のフィルタを同じ入力に適用することで，出力を複数チャンネルにすることができます．"
   ]
  },
  {
   "cell_type": "markdown",
   "metadata": {},
   "source": [
    "## Tensorflowでの実装"
   ]
  },
  {
   "cell_type": "markdown",
   "metadata": {},
   "source": [
    "Tensorflowで畳み込み層を実装する場合には，```tf.layers.conv2d```関数を用います．（```tf.nn.conv2d```関数を用いることもできますが，ここでは割愛します）\n",
    "\n",
    "基本的な引数は以下のとおりです．\n",
    "\n",
    "---\n",
    "\n",
    "```python\n",
    "tf.layers.conv2d(\n",
    "    inputs,\n",
    "    filters,\n",
    "    kernel_size,\n",
    "    strides=(1,1),\n",
    "    padding='valid',\n",
    "    activation=None\n",
    ")\n",
    "```\n",
    "---\n",
    "\n",
    "- inputs: 入力データ\n",
    "- filters: フィルタ数 (=出力チャンネル数)\n",
    "- kernel_size: フィルタサイズ\n",
    "- strides: ストライド幅．整数で指定すると縦横に同じストライド幅が適用されます．\n",
    "- padding: \"valid\"か\"same\"のどちらかを指定します．\"valid\"ではパディングなし，\"same\"では入力と出力のサイズが等しくなるようにゼロパディングが行われます．\n",
    "- activation: 活性化関数を指定します．```tf.nn.relu```など．\n",
    "\n",
    "例えば，フィルタ数50，フィルタサイズ(5, 5)，ストライド幅2，ゼロパディング，活性化関数にReLU関数を用いる場合は，以下のように定義されます．\n",
    "\n",
    "```python\n",
    "tf.layers.conv2d(inputs, filters=50, kernel_size=[5, 5], strides=[2, 2], padding='same', activation=tf.nn.relu)\n",
    "```"
   ]
  },
  {
   "cell_type": "markdown",
   "metadata": {},
   "source": [
    "## プーリング層"
   ]
  },
  {
   "cell_type": "markdown",
   "metadata": {},
   "source": [
    "プーリングの方法として，フィルタ内の最大値を返すMaxプーリング，平均値を返すAverageプーリングなどがあります．\n",
    "\n",
    "プーリング層でも，畳み込み層と同様，ストライドやパディングが行われます．\n",
    "\n",
    "下の図では，ストライド幅2，フィルターサイズ(2, 2)のMaxプーリングを適用した例を示しています．"
   ]
  },
  {
   "cell_type": "markdown",
   "metadata": {},
   "source": [
    "<img src=\"figure/pooling2_1.png\" width=500>"
   ]
  },
  {
   "cell_type": "markdown",
   "metadata": {},
   "source": [
    "<img src=\"figure/pooling2_2.png\" width=500>"
   ]
  },
  {
   "cell_type": "markdown",
   "metadata": {},
   "source": [
    "### 出力サイズの計算\n",
    "\n",
    "プーリング層のフィルタを適用した後の出力サイズは，畳み込み層と同様，以下の式で計算できます．\n",
    "\n",
    "\n",
    "$$\n",
    "W_O = \\frac{W_I + 2P - W_F}{S} + 1\n",
    "$$\n",
    "\n",
    "$$\n",
    "H_O = \\frac{H_I + 2P - H_F}{S} + 1\n",
    "$$\n",
    "\n",
    "ここで，$(W_O, H_O)$は出力の幅と高さ，$(W_I, H_I)$は入力の幅と高さ，$P$はパディング幅，$S$はストライド幅を指しています．"
   ]
  },
  {
   "cell_type": "markdown",
   "metadata": {},
   "source": [
    "## Tensorflowでの実装"
   ]
  },
  {
   "cell_type": "markdown",
   "metadata": {},
   "source": [
    "Tensorflowでプーリングを実装するためには，```tf.layers.max_pooling2d```, ```tf.layers.average_pooling2d```などを用います．\n",
    "\n",
    "```tf.layers.max_pooling2d``` の主な引数は，次のようになっています．\n",
    "\n",
    "---\n",
    "```python\n",
    "tf.layers.max_pooling2d(\n",
    "    inputs,\n",
    "    pool_size,\n",
    "    strides,\n",
    "    padding='valid'\n",
    ")\n",
    "```\n",
    "---\n",
    "\n",
    "- inputs: 入力データ\n",
    "- pool_size: フィルタサイズ\n",
    "- strides: ストライド幅．整数で指定すると縦横に同じストライド幅が適用されます．\n",
    "- padding: \"valid\"か\"same\"のどちらかを指定します．\"valid\"ではパディングなし，\"same\"では入力と出力のサイズが等しくなるようにゼロパディングが行われます．\n",
    "\n",
    "例えば，フィルタサイズ2，ストライド幅2, パディングなしのMaxプーリング層は，以下のように定義できます．\n",
    "\n",
    "```python\n",
    "tf.layers.max_pooling2d(inputs, pool_size=[2, 2], strides=[2, 2], padding='valid')\n",
    "```"
   ]
  },
  {
   "cell_type": "markdown",
   "metadata": {},
   "source": [
    "<a name=\"ハンズオン - CNNの実装\"></a>\n",
    "# ハンズオン - CNNの実装"
   ]
  },
  {
   "cell_type": "markdown",
   "metadata": {},
   "source": [
    "以上を参考に，実際にCNNを構築していきます．\n",
    "\n",
    "ここでは，下図のような構造のCNNを定義します．"
   ]
  },
  {
   "cell_type": "markdown",
   "metadata": {},
   "source": [
    "<img src=\"figure/cnn_pipeline.png\" width=400>"
   ]
  },
  {
   "cell_type": "markdown",
   "metadata": {},
   "source": [
    "#### 実装上の注意\n",
    "ここで，最後から2番目の全結合層に入力する前に，```tf.reshape(tensor, shape)```を用いて，出力された特徴マップを(バッチサイズ，特徴マップの幅×特徴マップの高さ×チャンネル数)の2次元テンソルに変換します．\n",
    "\n",
    "そこで，上に書いた計算式を用いて，全結合までの特徴マップのサイズを計算し，適切な値を指定する必要があります．\n",
    "\n",
    "全結合層の実装は，前回のハンズオンで用いた```tf.layers.dense()```を用います．"
   ]
  },
  {
   "cell_type": "code",
   "execution_count": null,
   "metadata": {
    "collapsed": true
   },
   "outputs": [],
   "source": [
    "def CNN(x):\n",
    "   # 入力を(バッチサイズ，28, 28, チャンネル数)の形にreshape\n",
    "    input_layer = tf.reshape(x, [-1, 28, 28, 1])\n",
    "    \n",
    "     ### TODO\n",
    "    conv1 = tf.layers.conv2d(input_layer, filters=20, kernel_size=5, padding=\"valid\", activation=tf.nn.relu)\n",
    "    pool1 = tf.layers.max_pooling2d(conv1, pool_size=2, strides=2)\n",
    "    conv2 = tf.layers.conv2d(pool1, filters=50, kernel_size=[5, 5], padding=\"valid\", activation=tf.nn.relu)\n",
    "    pool2 = tf.layers.max_pooling2d(conv2, pool_size=[2, 2], strides=2)\n",
    "    \n",
    "    # 2次元テンソルに変換\n",
    "    pool2_flat = tf.reshape(pool2, [-1, 800])\n",
    "    fc3 = tf.layers.dense(pool2_flat, 500, activation=tf.nn.relu)\n",
    "    out = tf.layers.dense(fc3, 10)\n",
    "    \n",
    "    ### TODO\n",
    "    \n",
    "    return out"
   ]
  },
  {
   "cell_type": "markdown",
   "metadata": {},
   "source": [
    "## グラフの構築\n",
    "\n",
    "ここは前回とほとんど同じです．\n",
    "\n",
    "前回はMLPクラスを用いていた部分を，CNNクラスに置き換えています．"
   ]
  },
  {
   "cell_type": "code",
   "execution_count": null,
   "metadata": {
    "collapsed": true
   },
   "outputs": [],
   "source": [
    "tf.reset_default_graph()\n",
    "\n",
    "# パラメータ\n",
    "# Learning rate (学習率)\n",
    "lr = 0.1\n",
    "# epoch数 （学習回数）\n",
    "n_epoch = 25\n",
    "# ミニバッチ学習における1バッチのデータ数\n",
    "batchsize = 100\n",
    "\n",
    "# 入力\n",
    "# placeholderを用いると，データのサイズがわからないときにとりあえずNoneとおくことができる．\n",
    "x = tf.placeholder(tf.float32, [None, 784]) # 28*28次元 \n",
    "t = tf.placeholder(tf.float32, [None, 10]) # 10クラス\n",
    "\n",
    "# CNNクラスのモデルを用いてpredictionを行う\n",
    "y = CNN(x)\n",
    "\n",
    "# 目的関数:softmax cross entropy\n",
    "# 入力：labels->正解ラベル， logits：predictionの結果\n",
    "# 出力：softmax cross entropyで計算された誤差\n",
    "xentropy = tf.nn.softmax_cross_entropy_with_logits(labels=t, logits=y)\n",
    "cost = tf.reduce_mean(xentropy)\n",
    "\n",
    "# SGD(Stochastic Gradient Descent : 確率的勾配降下法)で目的関数を最小化する\n",
    "optimizer = tf.train.GradientDescentOptimizer(lr).minimize(cost)\n",
    "\n",
    "# test用\n",
    "correct_prediction = tf.equal(tf.argmax(y, 1), tf.argmax(t, 1))\n",
    "accuracy = tf.reduce_mean(tf.cast(correct_prediction, tf.float32))"
   ]
  },
  {
   "cell_type": "markdown",
   "metadata": {},
   "source": [
    "## グラフの実行\n",
    "\n",
    "前回と同様，構築したグラフを実行してみます．\n",
    "\n",
    "正しく実装できていれば，99%程度の正解率となるはずです．"
   ]
  },
  {
   "cell_type": "code",
   "execution_count": null,
   "metadata": {
    "collapsed": true,
    "scrolled": false
   },
   "outputs": [],
   "source": [
    "with tf.Session() as sess:\n",
    "    sess.run(tf.global_variables_initializer())\n",
    "    \n",
    "    for epoch in range(n_epoch):\n",
    "        print ('epoch %d | ' % epoch, end=\"\")\n",
    "\n",
    "        # Training\n",
    "        sum_loss = 0\n",
    "        # 訓練データをシャッフルする\n",
    "        perm = np.random.permutation(N_train)\n",
    "\n",
    "        for i in range(0, N_train, batchsize):\n",
    "            # ミニバッチ分のデータを取ってくる\n",
    "            X_batch = X_train[perm[i:i+batchsize]]\n",
    "            t_batch = T_train[perm[i:i+batchsize]]\n",
    "\n",
    "            _, loss = sess.run([optimizer, cost], feed_dict={x:X_batch, t:t_batch})\n",
    "            sum_loss += loss * X_batch.shape[0]\n",
    "\n",
    "        loss = sum_loss / N_train\n",
    "        print('Train loss %.5f | ' %(loss), end=\"\")\n",
    "\n",
    "        # Test model\n",
    "        print (\"Test Accuracy: %.3f\"%(accuracy.eval(feed_dict={x: X_test, t: T_test})))"
   ]
  },
  {
   "cell_type": "code",
   "execution_count": null,
   "metadata": {
    "collapsed": true
   },
   "outputs": [],
   "source": []
  }
 ],
 "metadata": {
  "kernelspec": {
   "display_name": "Python 3",
   "language": "python",
   "name": "python3"
  },
  "language_info": {
   "codemirror_mode": {
    "name": "ipython",
    "version": 3
   },
   "file_extension": ".py",
   "mimetype": "text/x-python",
   "name": "python",
   "nbconvert_exporter": "python",
   "pygments_lexer": "ipython3",
   "version": "3.6.1"
  }
 },
 "nbformat": 4,
 "nbformat_minor": 2
}
